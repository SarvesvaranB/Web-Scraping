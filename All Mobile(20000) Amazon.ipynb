{
 "cells": [
  {
   "cell_type": "code",
   "execution_count": 13,
   "metadata": {},
   "outputs": [],
   "source": [
    "import requests\n",
    "from bs4 import BeautifulSoup\n",
    "import pandas as pd\n",
    "import numpy as np"
   ]
  },
  {
   "cell_type": "code",
   "execution_count": 14,
   "metadata": {},
   "outputs": [],
   "source": [
    "headers={\"User-Agent\":\"Mozilla/5.0 (Windows NT 10.0; Win64; x64) AppleWebKit/537.36 (KHTML, like Gecko) Chrome/89.0.4389.90 Safari/537.36\"}"
   ]
  },
  {
   "cell_type": "code",
   "execution_count": 15,
   "metadata": {},
   "outputs": [],
   "source": [
    "mobile=[]\n",
    "mprice=[]\n",
    "mrating=[]\n",
    "mlink=[]\n",
    "for i in range(20):\n",
    "    url = \"https://www.amazon.in/s?i=electronics&rh=n%3A1805560031%2Cp_36%3A1318506031&page={}\".format(i)\n",
    "    page=requests.get(url,headers=headers)\n",
    "    first=BeautifulSoup(page.content,'html.parser')\n",
    "    title=first.find(\"div\",{\"class\":\"s-main-slot s-result-list s-search-results sg-row\"})\n",
    "    name=title.findAll(\"h2\",{\"class\":\"a-size-mini a-spacing-none a-color-base s-line-clamp-4\"})\n",
    "    price=title.findAll('span',{'class':\"a-price\"})\n",
    "    rating=title.findAll(\"div\",{\"class\":\"a-row a-size-small\"})\n",
    "    images=title.find_all('img',{\"class\":\"s-image\"})\n",
    "    for item in name:\n",
    "        mob_nam=item.find(\"a\").get_text().replace('\\n','')\n",
    "        mobile.append(mob_nam)\n",
    "    for item in price:\n",
    "        mobile_price=item.find(\"span\").get_text()\n",
    "        mprice.append(mobile_price)\n",
    "    for item in rating:\n",
    "        Rating=item.find(\"span\").get_text().replace('\\n','')\n",
    "        mrating.append(Rating)\n",
    "    for item in images:    \n",
    "        link=item['src']\n",
    "        mlink.append(link)"
   ]
  },
  {
   "cell_type": "code",
   "execution_count": 16,
   "metadata": {},
   "outputs": [],
   "source": [
    "import pandas as pd\n",
    "df=pd.DataFrame(list(zip(mobile, mprice, mrating,mlink)))\n",
    "df.columns=['Mobile_Name','Mobile_Price','Rating','Image_URL']"
   ]
  },
  {
   "cell_type": "code",
   "execution_count": 17,
   "metadata": {},
   "outputs": [],
   "source": [
    "df.to_csv(r'C:\\Users\\Lenovo\\Amazon_Mobiles_Dataset.csv',index=False,header=True)"
   ]
  },
  {
   "cell_type": "code",
   "execution_count": 19,
   "metadata": {},
   "outputs": [],
   "source": [
    "df1=pd.read_csv('Amazon_Mobiles_Dataset.csv')"
   ]
  },
  {
   "cell_type": "code",
   "execution_count": 20,
   "metadata": {},
   "outputs": [
    {
     "data": {
      "text/html": [
       "<div>\n",
       "<style scoped>\n",
       "    .dataframe tbody tr th:only-of-type {\n",
       "        vertical-align: middle;\n",
       "    }\n",
       "\n",
       "    .dataframe tbody tr th {\n",
       "        vertical-align: top;\n",
       "    }\n",
       "\n",
       "    .dataframe thead th {\n",
       "        text-align: right;\n",
       "    }\n",
       "</style>\n",
       "<table border=\"1\" class=\"dataframe\">\n",
       "  <thead>\n",
       "    <tr style=\"text-align: right;\">\n",
       "      <th></th>\n",
       "      <th>Mobile_Name</th>\n",
       "      <th>Mobile_Price</th>\n",
       "      <th>Rating</th>\n",
       "      <th>Image_URL</th>\n",
       "    </tr>\n",
       "  </thead>\n",
       "  <tbody>\n",
       "    <tr>\n",
       "      <th>0</th>\n",
       "      <td>Redmi Note 10 (Frost White, 4GB RAM, 64GB Stor...</td>\n",
       "      <td>₹11,999</td>\n",
       "      <td>4.5 out of 5 stars</td>\n",
       "      <td>https://m.media-amazon.com/images/I/71yNlZ4dVZ...</td>\n",
       "    </tr>\n",
       "    <tr>\n",
       "      <th>1</th>\n",
       "      <td>Redmi Note 10 (Shadow Black, 4GB RAM, 64GB Sto...</td>\n",
       "      <td>₹11,999</td>\n",
       "      <td>4.5 out of 5 stars</td>\n",
       "      <td>https://m.media-amazon.com/images/I/71IqJQM2st...</td>\n",
       "    </tr>\n",
       "    <tr>\n",
       "      <th>2</th>\n",
       "      <td>Redmi Note 10 (Shadow Black, 6GB RAM, 128GB St...</td>\n",
       "      <td>₹13,999</td>\n",
       "      <td>4.2 out of 5 stars</td>\n",
       "      <td>https://m.media-amazon.com/images/I/71IqJQM2st...</td>\n",
       "    </tr>\n",
       "    <tr>\n",
       "      <th>3</th>\n",
       "      <td>Samsung Galaxy M12 (Blue,4GB RAM, 64GB Storage...</td>\n",
       "      <td>₹10,999</td>\n",
       "      <td>3.8 out of 5 stars</td>\n",
       "      <td>https://m.media-amazon.com/images/I/71yYaNztZ0...</td>\n",
       "    </tr>\n",
       "    <tr>\n",
       "      <th>4</th>\n",
       "      <td>Redmi Note 10 Pro Max (Glacial Blue, 6GB RAM, ...</td>\n",
       "      <td>₹12,999</td>\n",
       "      <td>4.0 out of 5 stars</td>\n",
       "      <td>https://m.media-amazon.com/images/I/719iIpuMQb...</td>\n",
       "    </tr>\n",
       "    <tr>\n",
       "      <th>...</th>\n",
       "      <td>...</td>\n",
       "      <td>...</td>\n",
       "      <td>...</td>\n",
       "      <td>...</td>\n",
       "    </tr>\n",
       "    <tr>\n",
       "      <th>451</th>\n",
       "      <td>Redmi Note 7 Pro (Nebula Red, 128GB, 6GB RAM)</td>\n",
       "      <td>11248.00</td>\n",
       "      <td>4.2 out of 5 stars</td>\n",
       "      <td>https://m.media-amazon.com/images/I/61GCPIkots...</td>\n",
       "    </tr>\n",
       "    <tr>\n",
       "      <th>452</th>\n",
       "      <td>Vivo Y20 (Obsidian Black, 6GB RAM, 64GB Storag...</td>\n",
       "      <td>₹18,935</td>\n",
       "      <td>4.2 out of 5 stars</td>\n",
       "      <td>https://m.media-amazon.com/images/I/61l9OCm-u3...</td>\n",
       "    </tr>\n",
       "    <tr>\n",
       "      <th>453</th>\n",
       "      <td>Panasonic Wireless intercom 5 line</td>\n",
       "      <td>₹20,999</td>\n",
       "      <td>3.0 out of 5 stars</td>\n",
       "      <td>https://m.media-amazon.com/images/I/71ghRh-0dN...</td>\n",
       "    </tr>\n",
       "    <tr>\n",
       "      <th>454</th>\n",
       "      <td>Vivo Y11 (Mineral Blue, 3GB RAM, 32GB Storage)...</td>\n",
       "      <td>₹10,400</td>\n",
       "      <td>4.2 out of 5 stars</td>\n",
       "      <td>https://m.media-amazon.com/images/I/81s1Z4JmjE...</td>\n",
       "    </tr>\n",
       "    <tr>\n",
       "      <th>455</th>\n",
       "      <td>Research in motion-BB BlackBerry Classic with ...</td>\n",
       "      <td>₹12,999</td>\n",
       "      <td>3.6 out of 5 stars</td>\n",
       "      <td>https://m.media-amazon.com/images/I/41nsUkncrD...</td>\n",
       "    </tr>\n",
       "  </tbody>\n",
       "</table>\n",
       "<p>456 rows × 4 columns</p>\n",
       "</div>"
      ],
      "text/plain": [
       "                                           Mobile_Name Mobile_Price  \\\n",
       "0    Redmi Note 10 (Frost White, 4GB RAM, 64GB Stor...      ₹11,999   \n",
       "1    Redmi Note 10 (Shadow Black, 4GB RAM, 64GB Sto...      ₹11,999   \n",
       "2    Redmi Note 10 (Shadow Black, 6GB RAM, 128GB St...      ₹13,999   \n",
       "3    Samsung Galaxy M12 (Blue,4GB RAM, 64GB Storage...      ₹10,999   \n",
       "4    Redmi Note 10 Pro Max (Glacial Blue, 6GB RAM, ...      ₹12,999   \n",
       "..                                                 ...          ...   \n",
       "451      Redmi Note 7 Pro (Nebula Red, 128GB, 6GB RAM)     11248.00   \n",
       "452  Vivo Y20 (Obsidian Black, 6GB RAM, 64GB Storag...      ₹18,935   \n",
       "453                 Panasonic Wireless intercom 5 line      ₹20,999   \n",
       "454  Vivo Y11 (Mineral Blue, 3GB RAM, 32GB Storage)...      ₹10,400   \n",
       "455  Research in motion-BB BlackBerry Classic with ...      ₹12,999   \n",
       "\n",
       "                 Rating                                          Image_URL  \n",
       "0    4.5 out of 5 stars  https://m.media-amazon.com/images/I/71yNlZ4dVZ...  \n",
       "1    4.5 out of 5 stars  https://m.media-amazon.com/images/I/71IqJQM2st...  \n",
       "2    4.2 out of 5 stars  https://m.media-amazon.com/images/I/71IqJQM2st...  \n",
       "3    3.8 out of 5 stars  https://m.media-amazon.com/images/I/71yYaNztZ0...  \n",
       "4    4.0 out of 5 stars  https://m.media-amazon.com/images/I/719iIpuMQb...  \n",
       "..                  ...                                                ...  \n",
       "451  4.2 out of 5 stars  https://m.media-amazon.com/images/I/61GCPIkots...  \n",
       "452  4.2 out of 5 stars  https://m.media-amazon.com/images/I/61l9OCm-u3...  \n",
       "453  3.0 out of 5 stars  https://m.media-amazon.com/images/I/71ghRh-0dN...  \n",
       "454  4.2 out of 5 stars  https://m.media-amazon.com/images/I/81s1Z4JmjE...  \n",
       "455  3.6 out of 5 stars  https://m.media-amazon.com/images/I/41nsUkncrD...  \n",
       "\n",
       "[456 rows x 4 columns]"
      ]
     },
     "execution_count": 20,
     "metadata": {},
     "output_type": "execute_result"
    }
   ],
   "source": [
    "df1"
   ]
  },
  {
   "cell_type": "code",
   "execution_count": null,
   "metadata": {},
   "outputs": [],
   "source": []
  }
 ],
 "metadata": {
  "kernelspec": {
   "display_name": "Python 3",
   "language": "python",
   "name": "python3"
  },
  "language_info": {
   "codemirror_mode": {
    "name": "ipython",
    "version": 3
   },
   "file_extension": ".py",
   "mimetype": "text/x-python",
   "name": "python",
   "nbconvert_exporter": "python",
   "pygments_lexer": "ipython3",
   "version": "3.8.3"
  }
 },
 "nbformat": 4,
 "nbformat_minor": 4
}
